{
  "cells": [
    {
      "cell_type": "code",
      "execution_count": 50,
      "metadata": {
        "colab": {
          "base_uri": "https://localhost:8080/",
          "height": 374
        },
        "id": "nKeLfoCTwedi",
        "outputId": "69b7afdb-e65b-443d-bb97-b04dfb84d426"
      },
      "outputs": [],
      "source": [
        "import matplotlib.pyplot as plt\n",
        "import seaborn as sns\n",
        "from sklearn.model_selection import train_test_split\n",
        "import keras\n",
        "import random\n",
        "from keras.models import Sequential\n",
        "from keras.layers import Dense, Conv2D , MaxPool2D , Flatten , Dropout, Input,InputLayer, Activation, BatchNormalization\n",
        "from keras.layers import AveragePooling2D, MaxPooling2D, GlobalAveragePooling2D, ZeroPadding2D, SpatialDropout2D\n",
        "from keras.preprocessing.image import ImageDataGenerator\n",
        "from tensorflow.keras.optimizers import Adam\n",
        "from tensorflow.keras.optimizers import SGD\n",
        "from tensorflow.keras.optimizers import RMSprop\n",
        "from sklearn.metrics import classification_report,confusion_matrix,roc_curve\n",
        "import tensorflow as tf\n",
        "import random\n",
        "import cv2\n",
        "import os\n",
        "import numpy as np\n",
        "from tensorflow.keras.applications.resnet50 import ResNet50\n",
        "# import efficientnet.keras as efn\n",
        "from keras.models import Model\n",
        "import keras\n",
        "from keras.callbacks import EarlyStopping\n",
        "img_size = 224"
      ]
    },
    {
      "cell_type": "code",
      "execution_count": 16,
      "metadata": {
        "id": "cjcaaxPmwkbF"
      },
      "outputs": [],
      "source": [
        "labels = ['cat', 'dog', 'lion']\n",
        "def get_data(data_dir):\n",
        "    data = []\n",
        "    for label in labels:\n",
        "        path = os.path.join(data_dir, label)\n",
        "        class_num = labels.index(label)\n",
        "        for img in os.listdir(path):\n",
        "            try:\n",
        "                img = cv2.imread(os.path.join(path, img))\n",
        "                resized_arr = cv2.resize(img, (img_size, img_size))\n",
        "                gray=cv2.cvtColor(resized_arr, cv2.COLOR_BGR2GRAY)\n",
        "                data.append([gray, class_num])\n",
        "            except Exception as e:\n",
        "                print(e)\n",
        "    return np.array(data)"
      ]
    },
    {
      "cell_type": "code",
      "execution_count": 17,
      "metadata": {
        "id": "4GfkE9kCwo-V"
      },
      "outputs": [
        {
          "name": "stderr",
          "output_type": "stream",
          "text": [
            "C:\\Users\\abdal\\AppData\\Local\\Temp/ipykernel_12856/3600624145.py:15: VisibleDeprecationWarning: Creating an ndarray from ragged nested sequences (which is a list-or-tuple of lists-or-tuples-or ndarrays with different lengths or shapes) is deprecated. If you meant to do this, you must specify 'dtype=object' when creating the ndarray.\n",
            "  return np.array(data)\n"
          ]
        }
      ],
      "source": [
        "train=get_data(r\"D:\\Universty\\level 3\\ML\\project\\Datasets\\archive (2)\\afhq\\train\")\n",
        "# test=get_data(\"../input/animal-faces/afhq/val\")"
      ]
    },
    {
      "cell_type": "code",
      "execution_count": 18,
      "metadata": {
        "id": "suKwCALywpiF"
      },
      "outputs": [],
      "source": [
        "Xt = []\n",
        "Yt = []#train\n",
        "# Xv = []\n",
        "# Yv = []#test\n",
        "\n",
        "for feature, label in train:\n",
        "  Xt.append(feature)\n",
        "  Yt.append(label)\n",
        "\n",
        "# for feature, label in test:\n",
        "#   Xv.append(feature)\n",
        "#   Yv.append(label)"
      ]
    },
    {
      "cell_type": "code",
      "execution_count": 19,
      "metadata": {
        "id": "IEJ3XYpjwrMF"
      },
      "outputs": [],
      "source": [
        "# Normalize the data\n",
        "Xt = np.array(Xt,dtype=np.float16) / 255\n",
        "# Xv = np.array(Xt,dtype=np.float16) / 255"
      ]
    },
    {
      "cell_type": "code",
      "execution_count": 20,
      "metadata": {
        "id": "EI0hQLDwws-9"
      },
      "outputs": [
        {
          "name": "stdout",
          "output_type": "stream",
          "text": [
            "(12269, 224, 224)\n"
          ]
        }
      ],
      "source": [
        "print(Xt.shape)\n",
        "# print(Xv.shape)"
      ]
    },
    {
      "cell_type": "code",
      "execution_count": 21,
      "metadata": {
        "id": "4-iPAXt4wuot"
      },
      "outputs": [],
      "source": [
        "Xt=Xt.reshape(-1, img_size, img_size, 1)\n",
        "Yt = np.array(Yt)\n",
        "\n",
        "# Xv=Xv.reshape(-1, img_size, img_size, 1)\n",
        "# Yv = np.array(Yv)"
      ]
    },
    {
      "cell_type": "code",
      "execution_count": 22,
      "metadata": {
        "id": "9mzAJh7CwwPF"
      },
      "outputs": [
        {
          "name": "stdout",
          "output_type": "stream",
          "text": [
            "Model: \"sequential\"\n",
            "_________________________________________________________________\n",
            " Layer (type)                Output Shape              Param #   \n",
            "=================================================================\n",
            " zero_padding2d (ZeroPadding  (None, 230, 230, 1)      0         \n",
            " 2D)                                                             \n",
            "                                                                 \n",
            " conv2d (Conv2D)             (None, 228, 228, 112)     1120      \n",
            "                                                                 \n",
            " max_pooling2d (MaxPooling2D  (None, 76, 76, 112)      0         \n",
            " )                                                               \n",
            "                                                                 \n",
            " conv2d_1 (Conv2D)           (None, 75, 75, 72)        32328     \n",
            "                                                                 \n",
            " max_pooling2d_1 (MaxPooling  (None, 25, 25, 72)       0         \n",
            " 2D)                                                             \n",
            "                                                                 \n",
            " conv2d_2 (Conv2D)           (None, 24, 24, 64)        18496     \n",
            "                                                                 \n",
            " batch_normalization (BatchN  (None, 24, 24, 64)       256       \n",
            " ormalization)                                                   \n",
            "                                                                 \n",
            " max_pooling2d_2 (MaxPooling  (None, 12, 12, 64)       0         \n",
            " 2D)                                                             \n",
            "                                                                 \n",
            " conv2d_3 (Conv2D)           (None, 11, 11, 32)        8224      \n",
            "                                                                 \n",
            " batch_normalization_1 (Batc  (None, 11, 11, 32)       128       \n",
            " hNormalization)                                                 \n",
            "                                                                 \n",
            " max_pooling2d_3 (MaxPooling  (None, 4, 4, 32)         0         \n",
            " 2D)                                                             \n",
            "                                                                 \n",
            " conv2d_4 (Conv2D)           (None, 3, 3, 16)          2064      \n",
            "                                                                 \n",
            " max_pooling2d_4 (MaxPooling  (None, 1, 1, 16)         0         \n",
            " 2D)                                                             \n",
            "                                                                 \n",
            " flatten (Flatten)           (None, 16)                0         \n",
            "                                                                 \n",
            " dense (Dense)               (None, 4096)              69632     \n",
            "                                                                 \n",
            " dropout (Dropout)           (None, 4096)              0         \n",
            "                                                                 \n",
            " dense_1 (Dense)             (None, 4096)              16781312  \n",
            "                                                                 \n",
            " dropout_1 (Dropout)         (None, 4096)              0         \n",
            "                                                                 \n",
            " dense_2 (Dense)             (None, 128)               524416    \n",
            "                                                                 \n",
            " dense_3 (Dense)             (None, 3)                 387       \n",
            "                                                                 \n",
            "=================================================================\n",
            "Total params: 17,438,363\n",
            "Trainable params: 17,438,171\n",
            "Non-trainable params: 192\n",
            "_________________________________________________________________\n"
          ]
        }
      ],
      "source": [
        "model = Sequential()\n",
        "model.add(InputLayer(input_shape=(img_size, img_size, 1)))\n",
        "\n",
        "model.add(ZeroPadding2D((3, 3)))\n",
        "model.add(Conv2D(112, activation='relu', kernel_size=(3, 3)))\n",
        "model.add(MaxPooling2D((2, 2), strides=(3, 3)))\n",
        "model.add(Conv2D(72, activation='relu', kernel_size=(2, 2)))\n",
        "model.add(MaxPooling2D((2, 2), strides=(3, 3)))\n",
        "model.add(Conv2D(64, activation='relu', kernel_size=(2, 2)))\n",
        "model.add(BatchNormalization())\n",
        "model.add(MaxPooling2D((2, 2), strides=(2, 2)))\n",
        "model.add(Conv2D(32, activation='relu', kernel_size=(2, 2)))\n",
        "model.add(BatchNormalization())\n",
        "model.add(MaxPooling2D((2, 2), strides=(3, 3)))\n",
        "model.add(Conv2D(16, activation='relu', kernel_size=(2, 2)))\n",
        "model.add(MaxPooling2D((2, 2), strides=(2, 2)))\n",
        "model.add(Flatten())\n",
        "model.add(Dense(4096, activation='relu'))\n",
        "model.add(Dropout(0.5))\n",
        "model.add(Dense(4096, activation='relu'))\n",
        "model.add(Dropout(0.5))\n",
        "model.add(Dense(128,activation=\"relu\"))\n",
        "model.add(Dense(3, activation=\"softmax\"))\n",
        "model.summary()"
      ]
    },
    {
      "cell_type": "code",
      "execution_count": 23,
      "metadata": {
        "id": "8s0yjjq6wy21"
      },
      "outputs": [
        {
          "name": "stderr",
          "output_type": "stream",
          "text": [
            "C:\\Users\\abdal\\AppData\\Local\\Programs\\Python\\Python38\\lib\\site-packages\\keras\\optimizer_v2\\rmsprop.py:130: UserWarning: The `lr` argument is deprecated, use `learning_rate` instead.\n",
            "  super(RMSprop, self).__init__(name, **kwargs)\n"
          ]
        }
      ],
      "source": [
        "rms= RMSprop(lr=0.00001)\n",
        "model.compile(optimizer =rms , loss =tf.keras.losses.SparseCategoricalCrossentropy(from_logits=True), metrics = ['accuracy'])"
      ]
    },
    {
      "cell_type": "code",
      "execution_count": 24,
      "metadata": {
        "id": "-RafuY2-w3cO"
      },
      "outputs": [],
      "source": [
        "Xt,Xv,Yt,Yv = train_test_split(Xt,Yt,train_size = 0.8,test_size = 0.2,random_state =42)"
      ]
    },
    {
      "cell_type": "code",
      "execution_count": 28,
      "metadata": {
        "id": "8w0HYdTRw48M"
      },
      "outputs": [
        {
          "name": "stdout",
          "output_type": "stream",
          "text": [
            "Epoch 1/3\n",
            "32/32 [==============================] - 84s 3s/step - loss: 0.8623 - accuracy: 0.6030 - val_loss: 1.0666 - val_accuracy: 0.4739\n",
            "Epoch 2/3\n",
            "32/32 [==============================] - 83s 3s/step - loss: 0.8446 - accuracy: 0.6030 - val_loss: 1.0600 - val_accuracy: 0.5302\n",
            "Epoch 3/3\n",
            "32/32 [==============================] - 83s 3s/step - loss: 0.8258 - accuracy: 0.6250 - val_loss: 1.0499 - val_accuracy: 0.5318\n"
          ]
        }
      ],
      "source": [
        "history = model.fit(Xt[:1000,:],Yt[:1000],epochs = 3,validation_data = (Xv[:200,:],Yv[:200]))"
      ]
    },
    {
      "cell_type": "code",
      "execution_count": 30,
      "metadata": {
        "id": "Z_P1Ktm-w6VE"
      },
      "outputs": [
        {
          "data": {
            "image/png": "[encoded data removed]",
            "text/plain": [
              "<Figure size 1080x1080 with 2 Axes>"
            ]
          },
          "metadata": {
            "needs_background": "light"
          },
          "output_type": "display_data"
        }
      ],
      "source": [
        "acc = history.history['accuracy']\n",
        "val_acc = history.history['val_accuracy']\n",
        "loss = history.history['loss']\n",
        "val_loss = history.history['val_loss']\n",
        "\n",
        "epochs_range = range(3)\n",
        "\n",
        "plt.figure(figsize=(15, 15))\n",
        "plt.subplot(2, 2, 1)\n",
        "plt.plot(epochs_range, acc, label='Training Accuracy')\n",
        "plt.plot(epochs_range, val_acc, label='Validation Accuracy')\n",
        "plt.legend(loc='lower right')\n",
        "plt.title('Training and Validation Accuracy')\n",
        "\n",
        "plt.subplot(2, 2, 2)\n",
        "plt.plot(epochs_range, loss, label='Training Loss')\n",
        "plt.plot(epochs_range, val_loss, label='Validation Loss')\n",
        "plt.legend(loc='upper right')\n",
        "plt.title('Training and Validation Loss')\n",
        "plt.show()"
      ]
    },
    {
      "cell_type": "code",
      "execution_count": 45,
      "metadata": {
        "id": "_Lx_Ty80w8Dc"
      },
      "outputs": [
        {
          "data": {
            "text/plain": [
              "<matplotlib.legend.Legend at 0x1ec91233820>"
            ]
          },
          "execution_count": 45,
          "metadata": {},
          "output_type": "execute_result"
        },
        {
          "data": {
            "image/png": "[encoded data removed]",
            "text/plain": [
              "<Figure size 432x288 with 1 Axes>"
            ]
          },
          "metadata": {
            "needs_background": "light"
          },
          "output_type": "display_data"
        }
      ],
      "source": [
        "# predictions = model.predict(Xt[:33,:])\n",
        "# predictions = predictions.reshape(1,-1)[0]\n",
        "# print(classification_report(Yt[:99], predictions, target_names = ['cat (Class 0)','dog (Class 1)','lion (Class 2)']))\n",
        "\n",
        "fpr = {}\n",
        "tpr = {}\n",
        "thresh ={}\n",
        "\n",
        "n_class = 3\n",
        "y_score = model.predict(Xt[:1000,:])\n",
        "for i in range(n_class):    \n",
        "    fpr[i], tpr[i], thresh[i] = roc_curve(Yt[:1000], y_score[:,i], pos_label=i)\n",
        "    \n",
        " \n",
        "plt.plot(np.array([0,1]),linestyle='--',color='black')\n",
        "plt.plot(fpr[0], tpr[0], linestyle='-',color='orange', label='Cat vs Rest')\n",
        "plt.plot(fpr[1], tpr[1], linestyle='-',color='green', label='Dog vs Rest')\n",
        "plt.plot(fpr[2], tpr[2], linestyle='-',color='blue', label='Lion vs Rest')\n",
        "plt.title('Multiclass ROC curve')\n",
        "plt.xlabel('False Positive Rate')\n",
        "plt.ylabel('True Positive rate')\n",
        "plt.legend(loc='best')"
      ]
    },
    {
      "cell_type": "code",
      "execution_count": 66,
      "metadata": {
        "colab": {
          "base_uri": "https://localhost:8080/",
          "height": 200
        },
        "id": "nBBqzm4bw9uV",
        "outputId": "16469047-8a88-4440-8576-9cf80d004f67"
      },
      "outputs": [
        {
          "data": {
            "image/png": "[encoded data removed]",
            "text/plain": [
              "<Figure size 432x288 with 2 Axes>"
            ]
          },
          "metadata": {
            "needs_background": "light"
          },
          "output_type": "display_data"
        }
      ],
      "source": [
        "# import sklearn.metrics as metrics\n",
        "# cm = metrics.confusion_matrix(Yt, y_score)\n",
        "# print(cm)\n",
        "predict = list()\n",
        "for i in y_score:\n",
        "    predict.append(i.index(max(i)))\n",
        "\n",
        "\n",
        "from sklearn.metrics import confusion_matrix\n",
        "import seaborn as sns\n",
        "import matplotlib.pyplot as plt     \n",
        "ax= plt.subplot()\n",
        "cm = confusion_matrix(Yt[:1000], predict[:1000] )\n",
        "sns.heatmap(cm, annot=True, fmt='g', ax=ax); \n",
        "ax.set_xlabel('Predicted labels');ax.set_ylabel('True labels'); \n",
        "ax.set_title('Confusion Matrix'); "
      ]
    }
  ],
  "metadata": {
    "colab": {
      "collapsed_sections": [],
      "name": "Untitled0.ipynb",
      "provenance": []
    },
    "kernelspec": {
      "display_name": "Python 3",
      "name": "python3"
    },
    "language_info": {
      "codemirror_mode": {
        "name": "ipython",
        "version": 3
      },
      "file_extension": ".py",
      "mimetype": "text/x-python",
      "name": "python",
      "nbconvert_exporter": "python",
      "pygments_lexer": "ipython3",
      "version": "3.8.0"
    }
  },
  "nbformat": 4,
  "nbformat_minor": 0
}
