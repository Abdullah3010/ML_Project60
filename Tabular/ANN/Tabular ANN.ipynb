{
 "cells": [
  {
   "cell_type": "code",
   "execution_count": 1,
   "id": "8db4305b",
   "metadata": {},
   "outputs": [],
   "source": [
    "import os\n",
    "import numpy as np\n",
    "import pandas as pd\n",
    "from sklearn.model_selection import train_test_split\n",
    "from sklearn.preprocessing import StandardScaler\n",
    "from sklearn.svm import SVC\n",
    "from sklearn.metrics import accuracy_score"
   ]
  },
  {
   "cell_type": "code",
   "execution_count": 2,
   "id": "c5b0dda9",
   "metadata": {},
   "outputs": [],
   "source": [
    "dataset= pd.read_csv(r'D:\\DATASETS\\Glacier_land_ice102\\glacier_land_ice102.csv')"
   ]
  },
  {
   "cell_type": "code",
   "execution_count": 3,
   "id": "28deb911",
   "metadata": {},
   "outputs": [
    {
     "data": {
      "text/html": [
       "<div>\n",
       "<style scoped>\n",
       "    .dataframe tbody tr th:only-of-type {\n",
       "        vertical-align: middle;\n",
       "    }\n",
       "\n",
       "    .dataframe tbody tr th {\n",
       "        vertical-align: top;\n",
       "    }\n",
       "\n",
       "    .dataframe thead th {\n",
       "        text-align: right;\n",
       "    }\n",
       "</style>\n",
       "<table border=\"1\" class=\"dataframe\">\n",
       "  <thead>\n",
       "    <tr style=\"text-align: right;\">\n",
       "      <th></th>\n",
       "      <th>Unnamed: 0</th>\n",
       "      <th>LST</th>\n",
       "      <th>Unnamed: 0.1</th>\n",
       "      <th>X_Coor</th>\n",
       "      <th>Y_Coor</th>\n",
       "      <th>band1</th>\n",
       "      <th>band2</th>\n",
       "      <th>band3</th>\n",
       "      <th>band4</th>\n",
       "      <th>band5</th>\n",
       "      <th>...</th>\n",
       "      <th>band9</th>\n",
       "      <th>band10</th>\n",
       "      <th>POINTID</th>\n",
       "      <th>nbr</th>\n",
       "      <th>ndbi</th>\n",
       "      <th>ndmi</th>\n",
       "      <th>ndsi</th>\n",
       "      <th>ndvi</th>\n",
       "      <th>ndwi</th>\n",
       "      <th>label</th>\n",
       "    </tr>\n",
       "  </thead>\n",
       "  <tbody>\n",
       "    <tr>\n",
       "      <th>0</th>\n",
       "      <td>0</td>\n",
       "      <td>23.794017</td>\n",
       "      <td>0</td>\n",
       "      <td>629719.8862</td>\n",
       "      <td>3959150.278</td>\n",
       "      <td>1449</td>\n",
       "      <td>1556</td>\n",
       "      <td>1750</td>\n",
       "      <td>1784</td>\n",
       "      <td>1851</td>\n",
       "      <td>...</td>\n",
       "      <td>2704</td>\n",
       "      <td>2719</td>\n",
       "      <td>1</td>\n",
       "      <td>-1</td>\n",
       "      <td>-1</td>\n",
       "      <td>-1</td>\n",
       "      <td>-1</td>\n",
       "      <td>-1</td>\n",
       "      <td>-1</td>\n",
       "      <td>0</td>\n",
       "    </tr>\n",
       "    <tr>\n",
       "      <th>1</th>\n",
       "      <td>1</td>\n",
       "      <td>23.794017</td>\n",
       "      <td>1</td>\n",
       "      <td>629679.8862</td>\n",
       "      <td>3959140.278</td>\n",
       "      <td>1269</td>\n",
       "      <td>1445</td>\n",
       "      <td>1598</td>\n",
       "      <td>1585</td>\n",
       "      <td>1718</td>\n",
       "      <td>...</td>\n",
       "      <td>2592</td>\n",
       "      <td>2311</td>\n",
       "      <td>2</td>\n",
       "      <td>-1</td>\n",
       "      <td>-1</td>\n",
       "      <td>-1</td>\n",
       "      <td>-1</td>\n",
       "      <td>-1</td>\n",
       "      <td>-1</td>\n",
       "      <td>0</td>\n",
       "    </tr>\n",
       "    <tr>\n",
       "      <th>2</th>\n",
       "      <td>2</td>\n",
       "      <td>21.481792</td>\n",
       "      <td>2</td>\n",
       "      <td>629689.8862</td>\n",
       "      <td>3959140.278</td>\n",
       "      <td>1286</td>\n",
       "      <td>1447</td>\n",
       "      <td>1562</td>\n",
       "      <td>1670</td>\n",
       "      <td>1794</td>\n",
       "      <td>...</td>\n",
       "      <td>2672</td>\n",
       "      <td>2427</td>\n",
       "      <td>3</td>\n",
       "      <td>-1</td>\n",
       "      <td>-1</td>\n",
       "      <td>-1</td>\n",
       "      <td>-1</td>\n",
       "      <td>-1</td>\n",
       "      <td>-1</td>\n",
       "      <td>0</td>\n",
       "    </tr>\n",
       "    <tr>\n",
       "      <th>3</th>\n",
       "      <td>3</td>\n",
       "      <td>21.481792</td>\n",
       "      <td>3</td>\n",
       "      <td>629699.8862</td>\n",
       "      <td>3959140.278</td>\n",
       "      <td>1310</td>\n",
       "      <td>1445</td>\n",
       "      <td>1601</td>\n",
       "      <td>1734</td>\n",
       "      <td>1839</td>\n",
       "      <td>...</td>\n",
       "      <td>2719</td>\n",
       "      <td>2549</td>\n",
       "      <td>4</td>\n",
       "      <td>-1</td>\n",
       "      <td>-1</td>\n",
       "      <td>-1</td>\n",
       "      <td>-1</td>\n",
       "      <td>-1</td>\n",
       "      <td>-1</td>\n",
       "      <td>0</td>\n",
       "    </tr>\n",
       "    <tr>\n",
       "      <th>4</th>\n",
       "      <td>4</td>\n",
       "      <td>21.481792</td>\n",
       "      <td>4</td>\n",
       "      <td>629709.8862</td>\n",
       "      <td>3959140.278</td>\n",
       "      <td>1365</td>\n",
       "      <td>1507</td>\n",
       "      <td>1703</td>\n",
       "      <td>1779</td>\n",
       "      <td>1854</td>\n",
       "      <td>...</td>\n",
       "      <td>2733</td>\n",
       "      <td>2674</td>\n",
       "      <td>5</td>\n",
       "      <td>-1</td>\n",
       "      <td>-1</td>\n",
       "      <td>-1</td>\n",
       "      <td>-1</td>\n",
       "      <td>-1</td>\n",
       "      <td>-1</td>\n",
       "      <td>0</td>\n",
       "    </tr>\n",
       "  </tbody>\n",
       "</table>\n",
       "<p>5 rows × 23 columns</p>\n",
       "</div>"
      ],
      "text/plain": [
       "   Unnamed: 0        LST  Unnamed: 0.1       X_Coor       Y_Coor  band1  \\\n",
       "0           0  23.794017             0  629719.8862  3959150.278   1449   \n",
       "1           1  23.794017             1  629679.8862  3959140.278   1269   \n",
       "2           2  21.481792             2  629689.8862  3959140.278   1286   \n",
       "3           3  21.481792             3  629699.8862  3959140.278   1310   \n",
       "4           4  21.481792             4  629709.8862  3959140.278   1365   \n",
       "\n",
       "   band2  band3  band4  band5  ...  band9  band10  POINTID  nbr  ndbi  ndmi  \\\n",
       "0   1556   1750   1784   1851  ...   2704    2719        1   -1    -1    -1   \n",
       "1   1445   1598   1585   1718  ...   2592    2311        2   -1    -1    -1   \n",
       "2   1447   1562   1670   1794  ...   2672    2427        3   -1    -1    -1   \n",
       "3   1445   1601   1734   1839  ...   2719    2549        4   -1    -1    -1   \n",
       "4   1507   1703   1779   1854  ...   2733    2674        5   -1    -1    -1   \n",
       "\n",
       "   ndsi  ndvi  ndwi  label  \n",
       "0    -1    -1    -1      0  \n",
       "1    -1    -1    -1      0  \n",
       "2    -1    -1    -1      0  \n",
       "3    -1    -1    -1      0  \n",
       "4    -1    -1    -1      0  \n",
       "\n",
       "[5 rows x 23 columns]"
      ]
     },
     "execution_count": 3,
     "metadata": {},
     "output_type": "execute_result"
    }
   ],
   "source": [
    "dataset.head()"
   ]
  },
  {
   "cell_type": "code",
   "execution_count": 4,
   "id": "67a7c927",
   "metadata": {},
   "outputs": [
    {
     "name": "stdout",
     "output_type": "stream",
     "text": [
      "<class 'pandas.core.frame.DataFrame'>\n",
      "RangeIndex: 1048575 entries, 0 to 1048574\n",
      "Data columns (total 23 columns):\n",
      " #   Column        Non-Null Count    Dtype  \n",
      "---  ------        --------------    -----  \n",
      " 0   Unnamed: 0    1048575 non-null  int64  \n",
      " 1   LST           972950 non-null   float64\n",
      " 2   Unnamed: 0.1  1048575 non-null  int64  \n",
      " 3   X_Coor        1048575 non-null  float64\n",
      " 4   Y_Coor        1048575 non-null  float64\n",
      " 5   band1         1048575 non-null  int64  \n",
      " 6   band2         1048575 non-null  int64  \n",
      " 7   band3         1048575 non-null  int64  \n",
      " 8   band4         1048575 non-null  int64  \n",
      " 9   band5         1048575 non-null  int64  \n",
      " 10  band6         1048575 non-null  int64  \n",
      " 11  band7         1048575 non-null  int64  \n",
      " 12  band8         1048575 non-null  int64  \n",
      " 13  band9         1048575 non-null  int64  \n",
      " 14  band10        1048575 non-null  int64  \n",
      " 15  POINTID       1048575 non-null  int64  \n",
      " 16  nbr           1048575 non-null  int64  \n",
      " 17  ndbi          1048575 non-null  int64  \n",
      " 18  ndmi          1048575 non-null  int64  \n",
      " 19  ndsi          1048575 non-null  int64  \n",
      " 20  ndvi          1048575 non-null  int64  \n",
      " 21  ndwi          1048575 non-null  int64  \n",
      " 22  label         1048575 non-null  int64  \n",
      "dtypes: float64(3), int64(20)\n",
      "memory usage: 184.0 MB\n"
     ]
    }
   ],
   "source": [
    "dataset.info()"
   ]
  },
  {
   "cell_type": "code",
   "execution_count": 5,
   "id": "8e6d2d8b",
   "metadata": {},
   "outputs": [
    {
     "data": {
      "text/plain": [
       "Unnamed: 0      False\n",
       "LST              True\n",
       "Unnamed: 0.1    False\n",
       "X_Coor          False\n",
       "Y_Coor          False\n",
       "band1           False\n",
       "band2           False\n",
       "band3           False\n",
       "band4           False\n",
       "band5           False\n",
       "band6           False\n",
       "band7           False\n",
       "band8           False\n",
       "band9           False\n",
       "band10          False\n",
       "POINTID         False\n",
       "nbr             False\n",
       "ndbi            False\n",
       "ndmi            False\n",
       "ndsi            False\n",
       "ndvi            False\n",
       "ndwi            False\n",
       "label           False\n",
       "dtype: bool"
      ]
     },
     "execution_count": 5,
     "metadata": {},
     "output_type": "execute_result"
    }
   ],
   "source": [
    "dataset.isna().any()"
   ]
  },
  {
   "cell_type": "code",
   "execution_count": 6,
   "id": "2ddbc698",
   "metadata": {},
   "outputs": [],
   "source": [
    "dataset['LST'].fillna(value=dataset['LST'].median(),inplace=True)   "
   ]
  },
  {
   "cell_type": "code",
   "execution_count": 7,
   "id": "1af8a06a",
   "metadata": {},
   "outputs": [
    {
     "data": {
      "text/plain": [
       "Unnamed: 0      False\n",
       "LST             False\n",
       "Unnamed: 0.1    False\n",
       "X_Coor          False\n",
       "Y_Coor          False\n",
       "band1           False\n",
       "band2           False\n",
       "band3           False\n",
       "band4           False\n",
       "band5           False\n",
       "band6           False\n",
       "band7           False\n",
       "band8           False\n",
       "band9           False\n",
       "band10          False\n",
       "POINTID         False\n",
       "nbr             False\n",
       "ndbi            False\n",
       "ndmi            False\n",
       "ndsi            False\n",
       "ndvi            False\n",
       "ndwi            False\n",
       "label           False\n",
       "dtype: bool"
      ]
     },
     "execution_count": 7,
     "metadata": {},
     "output_type": "execute_result"
    }
   ],
   "source": [
    "dataset.isna().any()"
   ]
  },
  {
   "cell_type": "code",
   "execution_count": 8,
   "id": "2b079514",
   "metadata": {},
   "outputs": [],
   "source": [
    "dataset.drop(['Unnamed: 0','Unnamed: 0.1','nbr','ndbi','ndmi','ndsi','ndvi','ndwi','POINTID'],axis=1,inplace=True)"
   ]
  },
  {
   "cell_type": "code",
   "execution_count": 9,
   "id": "2d6046cb",
   "metadata": {},
   "outputs": [
    {
     "data": {
      "text/html": [
       "<div>\n",
       "<style scoped>\n",
       "    .dataframe tbody tr th:only-of-type {\n",
       "        vertical-align: middle;\n",
       "    }\n",
       "\n",
       "    .dataframe tbody tr th {\n",
       "        vertical-align: top;\n",
       "    }\n",
       "\n",
       "    .dataframe thead th {\n",
       "        text-align: right;\n",
       "    }\n",
       "</style>\n",
       "<table border=\"1\" class=\"dataframe\">\n",
       "  <thead>\n",
       "    <tr style=\"text-align: right;\">\n",
       "      <th></th>\n",
       "      <th>LST</th>\n",
       "      <th>X_Coor</th>\n",
       "      <th>Y_Coor</th>\n",
       "      <th>band1</th>\n",
       "      <th>band2</th>\n",
       "      <th>band3</th>\n",
       "      <th>band4</th>\n",
       "      <th>band5</th>\n",
       "      <th>band6</th>\n",
       "      <th>band7</th>\n",
       "      <th>band8</th>\n",
       "      <th>band9</th>\n",
       "      <th>band10</th>\n",
       "      <th>label</th>\n",
       "    </tr>\n",
       "  </thead>\n",
       "  <tbody>\n",
       "    <tr>\n",
       "      <th>0</th>\n",
       "      <td>23.794017</td>\n",
       "      <td>629719.8862</td>\n",
       "      <td>3959150.278</td>\n",
       "      <td>1449</td>\n",
       "      <td>1556</td>\n",
       "      <td>1750</td>\n",
       "      <td>1784</td>\n",
       "      <td>1851</td>\n",
       "      <td>1934</td>\n",
       "      <td>1863</td>\n",
       "      <td>1918</td>\n",
       "      <td>2704</td>\n",
       "      <td>2719</td>\n",
       "      <td>0</td>\n",
       "    </tr>\n",
       "    <tr>\n",
       "      <th>1</th>\n",
       "      <td>23.794017</td>\n",
       "      <td>629679.8862</td>\n",
       "      <td>3959140.278</td>\n",
       "      <td>1269</td>\n",
       "      <td>1445</td>\n",
       "      <td>1598</td>\n",
       "      <td>1585</td>\n",
       "      <td>1718</td>\n",
       "      <td>1788</td>\n",
       "      <td>1856</td>\n",
       "      <td>1826</td>\n",
       "      <td>2592</td>\n",
       "      <td>2311</td>\n",
       "      <td>0</td>\n",
       "    </tr>\n",
       "    <tr>\n",
       "      <th>2</th>\n",
       "      <td>21.481792</td>\n",
       "      <td>629689.8862</td>\n",
       "      <td>3959140.278</td>\n",
       "      <td>1286</td>\n",
       "      <td>1447</td>\n",
       "      <td>1562</td>\n",
       "      <td>1670</td>\n",
       "      <td>1794</td>\n",
       "      <td>1882</td>\n",
       "      <td>1865</td>\n",
       "      <td>1875</td>\n",
       "      <td>2672</td>\n",
       "      <td>2427</td>\n",
       "      <td>0</td>\n",
       "    </tr>\n",
       "    <tr>\n",
       "      <th>3</th>\n",
       "      <td>21.481792</td>\n",
       "      <td>629699.8862</td>\n",
       "      <td>3959140.278</td>\n",
       "      <td>1310</td>\n",
       "      <td>1445</td>\n",
       "      <td>1601</td>\n",
       "      <td>1734</td>\n",
       "      <td>1839</td>\n",
       "      <td>1936</td>\n",
       "      <td>1892</td>\n",
       "      <td>1907</td>\n",
       "      <td>2719</td>\n",
       "      <td>2549</td>\n",
       "      <td>0</td>\n",
       "    </tr>\n",
       "    <tr>\n",
       "      <th>4</th>\n",
       "      <td>21.481792</td>\n",
       "      <td>629709.8862</td>\n",
       "      <td>3959140.278</td>\n",
       "      <td>1365</td>\n",
       "      <td>1507</td>\n",
       "      <td>1703</td>\n",
       "      <td>1779</td>\n",
       "      <td>1854</td>\n",
       "      <td>1951</td>\n",
       "      <td>1932</td>\n",
       "      <td>1925</td>\n",
       "      <td>2733</td>\n",
       "      <td>2674</td>\n",
       "      <td>0</td>\n",
       "    </tr>\n",
       "  </tbody>\n",
       "</table>\n",
       "</div>"
      ],
      "text/plain": [
       "         LST       X_Coor       Y_Coor  band1  band2  band3  band4  band5  \\\n",
       "0  23.794017  629719.8862  3959150.278   1449   1556   1750   1784   1851   \n",
       "1  23.794017  629679.8862  3959140.278   1269   1445   1598   1585   1718   \n",
       "2  21.481792  629689.8862  3959140.278   1286   1447   1562   1670   1794   \n",
       "3  21.481792  629699.8862  3959140.278   1310   1445   1601   1734   1839   \n",
       "4  21.481792  629709.8862  3959140.278   1365   1507   1703   1779   1854   \n",
       "\n",
       "   band6  band7  band8  band9  band10  label  \n",
       "0   1934   1863   1918   2704    2719      0  \n",
       "1   1788   1856   1826   2592    2311      0  \n",
       "2   1882   1865   1875   2672    2427      0  \n",
       "3   1936   1892   1907   2719    2549      0  \n",
       "4   1951   1932   1925   2733    2674      0  "
      ]
     },
     "execution_count": 9,
     "metadata": {},
     "output_type": "execute_result"
    }
   ],
   "source": [
    "dataset.head()"
   ]
  },
  {
   "cell_type": "code",
   "execution_count": 10,
   "id": "f118fce1",
   "metadata": {},
   "outputs": [],
   "source": [
    "X=dataset.iloc[:,:-1].values\n",
    "y=dataset.iloc[:,-1].values"
   ]
  },
  {
   "cell_type": "code",
   "execution_count": 11,
   "id": "cf8d0ad8",
   "metadata": {},
   "outputs": [],
   "source": [
    "sc=StandardScaler()\n",
    "X=sc.fit_transform(X)"
   ]
  },
  {
   "cell_type": "code",
   "execution_count": 12,
   "id": "c03741f0",
   "metadata": {},
   "outputs": [],
   "source": [
    "X_train,X_test,y_train,y_test=train_test_split(X,y,test_size=0.25,random_state=10)"
   ]
  },
  {
   "cell_type": "code",
   "execution_count": 13,
   "id": "fa228a42",
   "metadata": {},
   "outputs": [
    {
     "data": {
      "text/plain": [
       "Index(['LST', 'X_Coor', 'Y_Coor', 'band1', 'band2', 'band3', 'band4', 'band5',\n",
       "       'band6', 'band7', 'band8', 'band9', 'band10', 'label'],\n",
       "      dtype='object')"
      ]
     },
     "execution_count": 13,
     "metadata": {},
     "output_type": "execute_result"
    }
   ],
   "source": [
    "dataset.columns"
   ]
  },
  {
   "cell_type": "code",
   "execution_count": 14,
   "id": "c765a0b9",
   "metadata": {},
   "outputs": [],
   "source": [
    "from keras.layers import Dense\n",
    "import keras\n",
    "import matplotlib.pyplot as plt\n",
    "plt.scatter(X_train[:100000,0], X_train[:100000,1], s=1,c=y_train[:100000])\n",
    "plt.show()\n"
   ]
  },
  {
   "cell_type": "code",
   "execution_count": null,
   "id": "3da6a958",
   "metadata": {},
   "outputs": [],
   "source": [
    "model =keras.Sequential()\n",
    "model.add(Dense (13,activation='relu'))\n",
    "model.add(Dense(20,activation='relu'))\n",
    "model.add(Dense(1,activation='relu'))"
   ]
  },
  {
   "cell_type": "code",
   "execution_count": null,
   "id": "b74731eb",
   "metadata": {},
   "outputs": [
    {
     "name": "stdout",
     "output_type": "stream",
     "text": [
      "Model: \"sequential_1\"\n",
      "_________________________________________________________________\n",
      " Layer (type)                Output Shape              Param #   \n",
      "=================================================================\n",
      " dense_3 (Dense)             (500, 13)                 182       \n",
      "                                                                 \n",
      " dense_4 (Dense)             (500, 20)                 280       \n",
      "                                                                 \n",
      " dense_5 (Dense)             (500, 1)                  21        \n",
      "                                                                 \n",
      "=================================================================\n",
      "Total params: 483\n",
      "Trainable params: 483\n",
      "Non-trainable params: 0\n",
      "_________________________________________________________________\n"
     ]
    }
   ],
   "source": [
    "model.compile(loss='mse',optimizer='adam',metrics=[\"accuracy\"])\n",
    "checkpoint=keras.callbacks.ModelCheckpoint(filepath='weights.h5',verbose=1,save_best_only=True)\n",
    "history=model.fit(X_train[:25000,:],y_train[:25000] , epochs=30,batch_size=500,verbose=0,validation_split=0.2)\n",
    "model.summary()\n"
   ]
  },
  {
   "cell_type": "code",
   "execution_count": null,
   "id": "2fd51042",
   "metadata": {},
   "outputs": [
    {
     "name": "stdout",
     "output_type": "stream",
     "text": [
      "32/32 [==============================] - 0s 1ms/step - loss: 0.0077 - accuracy: 0.9930\n",
      "[0.0077402349561452866, 0.9929999709129333]\n"
     ]
    }
   ],
   "source": [
    "y_predict=model.predict(X_test[:1000,:])\n",
    "print(model.evaluate(X_test[:1000,:],y_test[:1000]))\n"
   ]
  },
  {
   "cell_type": "code",
   "execution_count": null,
   "id": "bd9c3dfd",
   "metadata": {},
   "outputs": [
    {
     "data": {
      "image/png": "[encoded data removed]",
      "text/plain": [
       "<Figure size 432x288 with 1 Axes>"
      ]
     },
     "metadata": {
      "needs_background": "light"
     },
     "output_type": "display_data"
    }
   ],
   "source": [
    "#calculationg ROC and area under ROC curve\n",
    "from sklearn.metrics import roc_curve, roc_auc_score\n",
    "linearauc = roc_auc_score(y_test[:1000], y_predict)\n",
    "linearfpr, lineartpr, threadshot = roc_curve(y_test[:1000], y_predict) #linearfpr holds the False Positive rate, lineartpr holds True Positive rate\n",
    "\n",
    "#plotting the ROC curve\n",
    "plt.plot(linearfpr, lineartpr,linestyle='--', label='linear SVC')\n",
    "plt.title('ROC')\n",
    "plt.xlabel('False Positive')\n",
    "plt.ylabel('True Positive')\n",
    "plt.legend()\n",
    "plt.show()\n"
   ]
  },
  {
   "cell_type": "code",
   "execution_count": null,
   "id": "b36ed9ca",
   "metadata": {},
   "outputs": [
    {
     "data": {
      "image/png": "[encoded data removed]",
      "text/plain": [
       "<Figure size 432x288 with 1 Axes>"
      ]
     },
     "metadata": {
      "needs_background": "light"
     },
     "output_type": "display_data"
    }
   ],
   "source": [
    "plt.plot(history.history['loss'])\n",
    "plt.plot(history.history['val_loss'])\n",
    "plt.ylabel('loss')\n",
    "plt.xlabel('epoch')\n",
    "plt.legend(['train','test'],loc='upper right')\n",
    "plt.show()"
   ]
  },
  {
   "cell_type": "code",
   "execution_count": null,
   "id": "38f5d14f",
   "metadata": {},
   "outputs": [
    {
     "data": {
      "image/png": "[encoded data removed]",
      "text/plain": [
       "<Figure size 432x288 with 2 Axes>"
      ]
     },
     "metadata": {
      "needs_background": "light"
     },
     "output_type": "display_data"
    }
   ],
   "source": [
    "from sklearn.metrics import ConfusionMatrixDisplay\n",
    "import seaborn as sns\n",
    "import matplotlib.pyplot as plt     \n",
    "ax= plt.subplot()\n",
    "cm = confusion_matrix(y_test[:1000], np.where(y_predict > 0.5, 1,0) )\n",
    "sns.heatmap(cm, annot=True, fmt='g', ax=ax); \n",
    "ax.set_xlabel('Predicted labels');ax.set_ylabel('True labels'); \n",
    "ax.set_title('Confusion Matrix'); \n"
   ]
  },
  {
   "cell_type": "code",
   "execution_count": null,
   "id": "575ee295",
   "metadata": {},
   "outputs": [],
   "source": []
  }
 ],
 "metadata": {
  "kernelspec": {
   "display_name": "Python 3 (ipykernel)",
   "language": "python",
   "name": "python3"
  },
  "language_info": {
   "codemirror_mode": {
    "name": "ipython",
    "version": 3
   },
   "file_extension": ".py",
   "mimetype": "text/x-python",
   "name": "python",
   "nbconvert_exporter": "python",
   "pygments_lexer": "ipython3",
   "version": "3.9.7"
  }
 },
 "nbformat": 4,
 "nbformat_minor": 5
}
